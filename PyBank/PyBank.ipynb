{
 "cells": [
  {
   "cell_type": "markdown",
   "metadata": {},
   "source": [
    "# PyBank"
   ]
  },
  {
   "cell_type": "markdown",
   "metadata": {},
   "source": [
    "In this challenge, you are tasked with creating a Python script for analyzing the financial records of your company. You will be given two sets of revenue data (`budget_data_1.csv` and `budget_data_2.csv`). Each dataset is composed of two columns: `Date` and `Revenue`. (Thankfully, your company has rather lax standards for accounting so the records are simple.)\n",
    "\n",
    "Your task is to create a Python script that analyzes the records to calculate each of the following:\n",
    "\n",
    "* The total number of months included in the dataset\n",
    "\n",
    "* The total amount of revenue gained over the entire period\n",
    "\n",
    "* The average change in revenue between months over the entire period\n",
    "\n",
    "* The greatest increase in revenue (date and amount) over the entire period\n",
    "\n",
    "* The greatest decrease in revenue (date and amount) over the entire period\n",
    "\n",
    "As an example, your analysis should look similar to the one below:\n",
    "\n",
    "```\n",
    "Financial Analysis\n",
    "----------------------------\n",
    "Total Months: 25\n",
    "Total Revenue: $1241412\n",
    "Average Revenue Change: $216825\n",
    "Greatest Increase in Revenue: Sep-16 ($815531)\n",
    "Greatest Decrease in Revenue: Aug-12 ($-652794)\n",
    "```\n",
    "\n",
    "Your final script must be able to handle any such similarly structured dataset in the future (your boss is going to give you more of these -- so your script has to work for the ones to come). In addition, your final script should both print the analysis to the terminal and export a text file with the results.\n",
    "\n"
   ]
  },
  {
   "cell_type": "code",
   "execution_count": 91,
   "metadata": {},
   "outputs": [
    {
     "name": "stdout",
     "output_type": "stream",
     "text": [
      "Input Revenue file data name:budget_data_1.csv\n",
      "Financial Analysis\n",
      "----------------------------\n",
      "Total Months: 41\n",
      "Total Revenue: $18971412\n",
      "Average Revenue Change: $-6758.975\n",
      "Greatest Increase in Revenue:Feb-16 $1837235\n",
      "Greatest Decrease in Revenue:Aug-14 $-1779747\n"
     ]
    }
   ],
   "source": [
    "# import os and csv lib to load data \n",
    "import os\n",
    "import csv\n",
    "\n",
    "#input file name - to be used later for other files in same dir location \n",
    "file_name=input(\"Input Revenue file data name:\")\n",
    "\n",
    "# for file location \n",
    "Revenue_data = os.path.join(\"raw_data\", file_name)\n",
    "\n",
    "# intiate Revenue and Months lists to stor values   \n",
    "Revenue=[]\n",
    "Months=[]\n",
    "\n",
    "# open the file and loop over the fhd, update Revenue=[] and Months=[]\n",
    "with open(Revenue_data, newline=\"\") as csvfile:\n",
    "    csv_reader = csv.reader(csvfile, delimiter=\",\")\n",
    "\n",
    "    # Skip csv headers  \n",
    "    next(csv_reader, None)\n",
    "\n",
    "    # Loop over fh\n",
    "    for row in csv_reader:\n",
    "        Months.append(row[0]) # Update Months list \n",
    "        Revenue.append(int(row[1])) # Update Rev list\n",
    "        \n",
    "\n",
    "\n",
    "# work out change data and store it in a list  \n",
    "val=Revenue[0] # set initial value  \n",
    "Change=[] # set change values list  \n",
    "for i in Revenue: # loop over Revenue list to calculate change \n",
    "    Diff=i-val\n",
    "    Change.append(Diff) # update Change \n",
    "    val=i\n",
    "\n",
    "\n",
    "\n",
    "max_index=[i for i, j in enumerate(Change) if j == (max(Change))][0] # index of max Change \n",
    "min_index=[i for i, j in enumerate(Change) if j == (min(Change))][0] # index of min Change \n",
    "\n",
    "\n",
    "#Data Summary \n",
    "#Simple functions to find from list(s)\n",
    "\n",
    "Total_Months=len(Revenue)\n",
    "Total_Revenue=sum(Revenue) \n",
    "\n",
    "Average_Revenue_Change=((sum(Change))/(len(Change)-1)) # (len(Change) -1 ) to ignore the first month \n",
    "\n",
    "Greatest_Increase_Month=Months[max_index] # find the month of max change via index of max in Change \n",
    "Greatest_Increase_Change=max(Change)\n",
    "\n",
    "Greatest_Decrease_Month=Months[min_index] # find the month of min change via index of min in Change \n",
    "Greatest_Decrease_Change=min(Change)\n",
    "\n",
    "\n",
    "\n",
    "# Print out the Summary \n",
    "print('Financial Analysis')\n",
    "print('----------------------------')\n",
    "print('Total Months: ' + str(Total_Months)) \n",
    "print('Total Revenue: $' + str(Total_Revenue))\n",
    "print('Average Revenue Change: $' + str(Average_Revenue_Change))\n",
    "print('Greatest Increase in Revenue:' + Greatest_Increase_Month +\" $\"+ str(Greatest_Increase_Change))\n",
    "print('Greatest Decrease in Revenue:' + Greatest_Decrease_Month +\" $\"+ str(Greatest_Decrease_Change))\n"
   ]
  },
  {
   "cell_type": "code",
   "execution_count": null,
   "metadata": {
    "collapsed": true
   },
   "outputs": [],
   "source": []
  }
 ],
 "metadata": {
  "kernelspec": {
   "display_name": "Python 3",
   "language": "python",
   "name": "python3"
  },
  "language_info": {
   "codemirror_mode": {
    "name": "ipython",
    "version": 3
   },
   "file_extension": ".py",
   "mimetype": "text/x-python",
   "name": "python",
   "nbconvert_exporter": "python",
   "pygments_lexer": "ipython3",
   "version": "3.6.1"
  }
 },
 "nbformat": 4,
 "nbformat_minor": 2
}
