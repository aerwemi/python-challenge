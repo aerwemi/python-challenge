{
 "cells": [
  {
   "cell_type": "markdown",
   "metadata": {},
   "source": [
    "## PyParagraph\n",
    "\n",
    "In this challenge, you get to play the role of chief linguist at a local learning academy. As chief linguist, you are responsible for assessing the complexity of various passages of writing, ranging from the sophomoric Twilight novel to the nauseatingly high-minded research article. Having read so many passages, you've since come up with a fairly simple set of metrics for assessing complexity.\n",
    "\n",
    "Your task is to create a Python script to automate the analysis of any such passage using these metrics. Your script will need to do the following:\n",
    "\n",
    "* Import a text file filled with a paragraph of your choosing.\n",
    "\n",
    "* Assess the passage for each of the following:\n",
    "\n",
    "  * Approximate word count\n",
    "\n",
    "  * Approximate sentence count\n",
    "\n",
    "  * Approximate letter count (per word)\n",
    "\n",
    "  * Average sentence length (in words)\n",
    "\n",
    "* As an example, this passage:\n",
    "\n",
    "> “Adam Wayne, the conqueror, with his face flung back and his mane like a lion's, stood with his great sword point upwards, the red raiment of his office flapping around him like the red wings of an archangel. And the King saw, he knew not how, something new and overwhelming. The great green trees and the great red robes swung together in the wind. The preposterous masquerade, born of his own mockery, towered over him and embraced the world. This was the normal, this was sanity, this was nature, and he himself, with his rationality, and his detachment and his black frock-coat, he was the exception and the accident - a blot of black upon a world of crimson and gold.”\n",
    "\n",
    "...would yield these results:\n",
    "\n",
    "```\n",
    "Paragraph Analysis\n",
    "-----------------\n",
    "Approximate Word Count: 122\n",
    "Approximate Sentence Count: 5\n",
    "Average Letter Count: 4.56557377049\n",
    "Average Sentence Length: 24.4\n",
    "```\n",
    "\n",
    "* **Special Hint:** You may find this code snippet helpful when determining sentence length (look into [regular expressions](https://en.wikipedia.org/wiki/Regular_expression) if interested in learning more):\n",
    "\n",
    "```python\n",
    "import re\n",
    "re.split(\"(?&lt;=[.!?]) +\", paragraph)\n",
    "```\n"
   ]
  },
  {
   "cell_type": "code",
   "execution_count": 91,
   "metadata": {},
   "outputs": [
    {
     "name": "stdout",
     "output_type": "stream",
     "text": [
      "Input File (*.txt):paragraph_2.txt\n",
      "Paragraph Analysis\n",
      "-----------------\n",
      "Approximate Word Count: 276\n",
      "Approximate Sentence Count: 11\n",
      "Average Letter Count: 5.420289855072464\n",
      "Average Sentence Length: 160.0\n",
      "-----------------\n"
     ]
    },
    {
     "name": "stderr",
     "output_type": "stream",
     "text": [
      "C:\\Users\\aerwe\\Anaconda3\\lib\\re.py:212: FutureWarning: split() requires a non-empty pattern match.\n",
      "  return _compile(pattern, flags).split(string, maxsplit)\n"
     ]
    }
   ],
   "source": [
    "import re # import reg. exp. lib \n",
    "import os \n",
    "#input file name - to be used later for other files in same dir location \n",
    "\n",
    "file_name=input(\"Input File (*.txt):\")\n",
    "\n",
    "# for file location \n",
    "input_file = os.path.join(\"raw_data\", file_name)\n",
    "\n",
    "\n",
    "\n",
    "with open(input_file, 'r') as txtfile:\n",
    "    data=txtfile.read().replace('\\n', \"\")\n",
    "\n",
    "\n",
    "word_list=re.split(r'\\s*',data)\n",
    "sent_list=re.findall(r'\\.', data)\n",
    "sent=re.split(r'\\.', data)\n",
    "sent_lent=[len(i) for i in sent]\n",
    "\n",
    "if sent_lent[-1]==0:\n",
    "    del sent_lent[-1]\n",
    "\n",
    "word_count=len(word_list)\n",
    "sent_count=len(sent_list)\n",
    "\n",
    "word_lnt=[len(word) for word in word_list] \n",
    "\n",
    "\n",
    "\n",
    "print('Paragraph Analysis')\n",
    "print(\"-----------------\")\n",
    "print('Approximate Word Count: ' + str(word_count))\n",
    "print('Approximate Sentence Count: ' + str((sent_count)))\n",
    "print('Average Letter Count: ' + str(sum(word_lnt)/len(word_lnt)))\n",
    "print('Average Sentence Length: '+ str(sum(sent_lent)/len(sent_lent)))\n",
    "print(\"-----------------\")\n",
    "\n"
   ]
  },
  {
   "cell_type": "code",
   "execution_count": null,
   "metadata": {
    "collapsed": true
   },
   "outputs": [],
   "source": []
  }
 ],
 "metadata": {
  "kernelspec": {
   "display_name": "Python 3",
   "language": "python",
   "name": "python3"
  },
  "language_info": {
   "codemirror_mode": {
    "name": "ipython",
    "version": 3
   },
   "file_extension": ".py",
   "mimetype": "text/x-python",
   "name": "python",
   "nbconvert_exporter": "python",
   "pygments_lexer": "ipython3",
   "version": "3.6.1"
  }
 },
 "nbformat": 4,
 "nbformat_minor": 2
}
