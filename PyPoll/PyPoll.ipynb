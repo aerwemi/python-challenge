{
 "cells": [
  {
   "cell_type": "markdown",
   "metadata": {},
   "source": [
    "## PyPoll\n",
    "\n",
    "In this challenge, you are tasked with helping a small, rural town modernize its vote-counting process. (Up until now, Uncle Cleetus had been trustfully tallying them one-by-one, but unfortunately, his concentration isn't what it used to be.)\n",
    "\n",
    "You will be given two sets of poll data (`election_data_1.csv` and `election_data_2.csv`). Each dataset is composed of three columns: `Voter ID`, `County`, and `Candidate`. Your task is to create a Python script that analyzes the votes and calculates each of the following:\n",
    "\n",
    "* The total number of votes cast\n",
    "\n",
    "* A complete list of candidates who received votes\n",
    "\n",
    "* The percentage of votes each candidate won\n",
    "\n",
    "* The total number of votes each candidate won\n",
    "\n",
    "* The winner of the election based on popular vote.\n",
    "\n",
    "As an example, your analysis should look similar to the one below:\n",
    "\n",
    "```\n",
    "Election Results\n",
    "-------------------------\n",
    "Total Votes: 620100\n",
    "-------------------------\n",
    "Rogers: 36.0% (223236)\n",
    "Gomez: 54.0% (334854)\n",
    "Brentwood: 4.0% (24804)\n",
    "Higgins: 6.0% (37206)\n",
    "-------------------------\n",
    "Winner: Gomez\n",
    "-------------------------\n",
    "```\n",
    "\n",
    "Your final script must be able to handle any such similarly-structured dataset in the future (i.e you have zero intentions of living in this hillbilly town -- so your script needs to work without massive re-writes). In addition, your final script should both print the analysis to the terminal and export a text file with the results."
   ]
  },
  {
   "cell_type": "code",
   "execution_count": 2,
   "metadata": {},
   "outputs": [
    {
     "name": "stdout",
     "output_type": "stream",
     "text": [
      "Input Voter File (*.csv):election_data_2.csv\n",
      "Election Results\n",
      "-------------------------\n",
      "Total Votes: 3521001\n",
      "-------------------------\n",
      "Correy: 20.0% (704200)\n",
      "O'Tooley: 3.0% (105630)\n",
      "Khan: 63.0% (2218231)\n",
      "Li: 14.0% (492940)\n",
      "-------------------------\n",
      "Winner: Khan\n",
      "-------------------------\n"
     ]
    }
   ],
   "source": [
    "# import os and csv lib to load data \n",
    "import os\n",
    "import csv\n",
    "\n",
    "#input file name - to be used later for other files in same dir location \n",
    "file_name=input(\"Input Voter File (*.csv):\")\n",
    "\n",
    "# for file location \n",
    "Vote_data = os.path.join(\"raw_data\", file_name)\n",
    "\n",
    "\n",
    "# open the file and loop over the fhd, update Revenue=[] and Months=[]\n",
    "\n",
    "Candidates=[]\n",
    "\n",
    "with open(Vote_data, newline=\"\") as csvfile:\n",
    "    csv_reader = csv.reader(csvfile, delimiter=\",\")\n",
    "\n",
    "    # Skip csv headers  \n",
    "    next(csv_reader, None)\n",
    "\n",
    "    # Loop over fh\n",
    "    for row in csv_reader:\n",
    "        Candidates.append(row[2]) # Update candidate list\n",
    "\n",
    "\n",
    "# finding vote summary\n",
    "total_votes=len(Candidates)\n",
    "cand_list=set(Candidates)\n",
    "cand_list=[i for i in cand_list]\n",
    "vote_counts=[Candidates.count(i) for i in cand_list]\n",
    "vote_percent= [((Candidates.count(i)/total_votes)*100) for i in cand_list]\n",
    "vote_percent= [round(i,3) for i in vote_percent]\n",
    "\n",
    "max_vote=max(vote_counts)\n",
    "\n",
    "\n",
    "mx,idx = max( (vote_counts[i],i) for i in range(len(vote_counts)) )\n",
    "\n",
    "wins=cand_list[idx]\n",
    "        \n",
    "    \n",
    "# printing vote summary    \n",
    "print('Election Results')\n",
    "print('-------------------------')\n",
    "print('Total Votes: ' + str(total_votes) )\n",
    "print('-------------------------')\n",
    "\n",
    "cand_num=0\n",
    "for i in cand_list:\n",
    "    print(i + ': ' + str(vote_percent[cand_num])+'% '+ '(' + str(vote_counts[cand_num]) + ')' )\n",
    "    cand_num+=1\n",
    "\n",
    "print('-------------------------')\n",
    "\n",
    "print('Winner: ' + str(wins)) \n",
    "\n",
    "print('-------------------------')"
   ]
  },
  {
   "cell_type": "code",
   "execution_count": null,
   "metadata": {
    "collapsed": true
   },
   "outputs": [],
   "source": []
  }
 ],
 "metadata": {
  "kernelspec": {
   "display_name": "Python 3",
   "language": "python",
   "name": "python3"
  },
  "language_info": {
   "codemirror_mode": {
    "name": "ipython",
    "version": 3
   },
   "file_extension": ".py",
   "mimetype": "text/x-python",
   "name": "python",
   "nbconvert_exporter": "python",
   "pygments_lexer": "ipython3",
   "version": "3.6.1"
  }
 },
 "nbformat": 4,
 "nbformat_minor": 2
}
